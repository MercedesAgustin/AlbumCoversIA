{
  "nbformat": 4,
  "nbformat_minor": 0,
  "metadata": {
    "colab": {
      "provenance": [],
      "authorship_tag": "ABX9TyP5e3hrfShJ1V+dXimNA841",
      "include_colab_link": true
    },
    "kernelspec": {
      "name": "python3",
      "display_name": "Python 3"
    },
    "language_info": {
      "name": "python"
    }
  },
  "cells": [
    {
      "cell_type": "markdown",
      "metadata": {
        "id": "view-in-github",
        "colab_type": "text"
      },
      "source": [
        "<a href=\"https://colab.research.google.com/github/MercedesAgustin/AlbumCoversIA/blob/main/AlbumCoversIA.ipynb\" target=\"_parent\"><img src=\"https://colab.research.google.com/assets/colab-badge.svg\" alt=\"Open In Colab\"/></a>"
      ]
    },
    {
      "cell_type": "code",
      "execution_count": 1,
      "metadata": {
        "id": "vXdG9doAvhWE"
      },
      "outputs": [],
      "source": [
        "import openai\n",
        "from io import BytesIO\n",
        "import requests\n",
        "from PIL import Image"
      ]
    },
    {
      "cell_type": "code",
      "source": [
        "openai.api_key = \"\""
      ],
      "metadata": {
        "id": "HF5zP2Apvuyi"
      },
      "execution_count": null,
      "outputs": []
    },
    {
      "cell_type": "code",
      "source": [
        "# Función para generar el prompt optimizado\n",
        "def generar_prompt():\n",
        "    estilo = input(\"Ingrese el estilo del álbum: \")\n",
        "    emociones = input(\"Ingrese las emociones que debe transmitir: \")\n",
        "    elementos = input(\"Ingrese los elementos visuales clave: \")\n",
        "    prompt = f\"Diseña una portada de álbum con el estilo {estilo}, que transmita {emociones}. \"\n",
        "    prompt += f\"Debe incluir los siguientes elementos visuales: {elementos}. La imagen debe ser artística y profesional.\"\n",
        "    return prompt"
      ],
      "metadata": {
        "id": "NOUF6xwIvv_h"
      },
      "execution_count": null,
      "outputs": []
    },
    {
      "cell_type": "code",
      "source": [
        "# Generar el prompt optimizado\n",
        "prompt = generar_prompt()"
      ],
      "metadata": {
        "id": "jPiQb2mivyOh"
      },
      "execution_count": null,
      "outputs": []
    },
    {
      "cell_type": "code",
      "source": [
        "# Generar la imagen con DALL·E\n",
        "response = openai.Image.create(\n",
        "    model=\"dall-e-3\",\n",
        "    prompt=prompt,\n",
        "    size=\"1024x1024\"\n",
        ")"
      ],
      "metadata": {
        "id": "iNf3mdcnv03p"
      },
      "execution_count": null,
      "outputs": []
    },
    {
      "cell_type": "code",
      "source": [
        "# Obtener la URL de la imagen generada\n",
        "url_imagen = response['data'][0]['url']\n",
        "print(\"Imagen generada: \", url_imagen)\n"
      ],
      "metadata": {
        "id": "pOZwza44v3Xg"
      },
      "execution_count": null,
      "outputs": []
    },
    {
      "cell_type": "code",
      "source": [
        "# Descargar y guardar la imagen\n",
        "imagen = Image.open(BytesIO(requests.get(url_imagen).content))\n",
        "imagen.save(\"imagen_generada.png\")\n",
        "print(\"Imagen guardada como 'imagen_generada.png'\")"
      ],
      "metadata": {
        "id": "30M71iYkv50P"
      },
      "execution_count": null,
      "outputs": []
    }
  ]
}